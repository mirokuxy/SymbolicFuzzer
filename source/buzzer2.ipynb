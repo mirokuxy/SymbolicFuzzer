{
 "cells": [
  {
   "cell_type": "code",
   "execution_count": 1,
   "metadata": {},
   "outputs": [],
   "source": [
    "import angr, monkeyhex\n",
    "import random"
   ]
  },
  {
   "cell_type": "code",
   "execution_count": 2,
   "metadata": {},
   "outputs": [],
   "source": [
    "binary_name = 'ifs'\n",
    "\n",
    "proj = angr.Project(binary_name, auto_load_libs=False)\n",
    "_state = proj.factory.entry_state()"
   ]
  },
  {
   "cell_type": "code",
   "execution_count": 4,
   "metadata": {},
   "outputs": [],
   "source": [
    "inx1 = _state.solver.BVS('inx1', 16)\n",
    "inx2 = _state.solver.BVS('inx2', 16)\n",
    "inx3 = _state.solver.BVS('inx3', 16)\n",
    "inxs = [inx1, inx2, inx3]\n",
    "\n",
    "in1 = \"a\\0\"\n",
    "in2 = \"a\\0\"\n",
    "in3 = \"a\\0\"\n",
    "ins = [in1, in2, in3]"
   ]
  },
  {
   "cell_type": "code",
   "execution_count": 5,
   "metadata": {},
   "outputs": [],
   "source": [
    "def genInitState(proj, inxs, ins):\n",
    "    state = proj.factory.entry_state(args=inxs)\n",
    "    assert( len(inxs) == len(ins) )\n",
    "    for (inxi, ini) in zip(inxs, ins):\n",
    "        state.add_constraints(inxi == ini)\n",
    "    return state"
   ]
  },
  {
   "cell_type": "code",
   "execution_count": null,
   "metadata": {},
   "outputs": [],
   "source": [
    "def runOneBranch(proj, simgr):\n",
    "    "
   ]
  }
 ],
 "metadata": {
  "kernelspec": {
   "display_name": "Python 2",
   "language": "python",
   "name": "python2"
  },
  "language_info": {
   "codemirror_mode": {
    "name": "ipython",
    "version": 2
   },
   "file_extension": ".py",
   "mimetype": "text/x-python",
   "name": "python",
   "nbconvert_exporter": "python",
   "pygments_lexer": "ipython2",
   "version": "2.7.3"
  }
 },
 "nbformat": 4,
 "nbformat_minor": 2
}
