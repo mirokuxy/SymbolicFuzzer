{
 "cells": [
  {
   "cell_type": "code",
   "execution_count": 1,
   "metadata": {},
   "outputs": [],
   "source": [
    "import angr, monkeyhex\n",
    "import random\n",
    "from collections import deque"
   ]
  },
  {
   "cell_type": "code",
   "execution_count": 2,
   "metadata": {},
   "outputs": [],
   "source": [
    "binary_name = 'loop'"
   ]
  },
  {
   "cell_type": "code",
   "execution_count": 3,
   "metadata": {},
   "outputs": [],
   "source": [
    "proj = angr.Project(binary_name, auto_load_libs=False)\n",
    "_state = proj.factory.entry_state()"
   ]
  },
  {
   "cell_type": "code",
   "execution_count": 4,
   "metadata": {},
   "outputs": [],
   "source": [
    "inx1 = _state.solver.BVS('inx1', 16)\n",
    "inx2 = _state.solver.BVS('inx2', 16)\n",
    "inx3 = _state.solver.BVS('inx3', 16)\n",
    "inxs = [inx1, inx2, inx3]"
   ]
  },
  {
   "cell_type": "code",
   "execution_count": 5,
   "metadata": {},
   "outputs": [],
   "source": [
    "def genInitState(proj, inxs, ins):\n",
    "    state = proj.factory.entry_state(args=inxs)\n",
    "    assert( len(inxs) >= len(ins) )\n",
    "    for i in range(len(ins)):\n",
    "        state.add_constraints(inxs[i] == ins[i])\n",
    "    return state"
   ]
  },
  {
   "cell_type": "code",
   "execution_count": 6,
   "metadata": {},
   "outputs": [],
   "source": [
    "def executeState(proj, state, max_branches):  # will only randomly pick one path if multiple paths possible\n",
    "    simgr = proj.factory.simulation_manager(state)\n",
    "    branches = 0\n",
    "    while simgr.active and branches < max_branches:\n",
    "        simgr.step(until=lambda s: not s.active or s.active[0].history.recent_constraints)\n",
    "        branches += 1\n",
    "        if (len(simgr.active) == 2):\n",
    "            r = random.randint(0,1)\n",
    "            simgr.active.pop(r)\n",
    "            \n",
    "    if simgr.active:\n",
    "        return simgr.active[0]\n",
    "    elif simgr.deadended:\n",
    "        return simgr.deadended[0]\n",
    "    elif simgr.errored:\n",
    "        return simgr.errored[0].state\n",
    "    else:\n",
    "        return None"
   ]
  },
  {
   "cell_type": "code",
   "execution_count": 7,
   "metadata": {},
   "outputs": [],
   "source": [
    "def getConstraints(proj, start, end):\n",
    "    ins = start.history.constraints_since(start)\n",
    "    constraints = end.history.constraints_since(start)\n",
    "    \n",
    "    for _ in range(len(ins)): # pop constraints for input\n",
    "        constraints.pop() \n",
    "    constraints.reverse() # adjust to correct order\n",
    "    \n",
    "    return [c.ast for c in constraints] # extract ast/condition from Simulation Action Object"
   ]
  },
  {
   "cell_type": "code",
   "execution_count": 8,
   "metadata": {},
   "outputs": [],
   "source": [
    "def executeSymbolic(proj, inx, ins, max_branches):\n",
    "    start = genInitState(proj, inxs, ins)\n",
    "    end = executeState(proj, start,  max_branches)\n",
    "    assert( end != None and \"unhandled case\")\n",
    "    \n",
    "    return getConstraints(proj, start, end)"
   ]
  },
  {
   "cell_type": "code",
   "execution_count": 9,
   "metadata": {},
   "outputs": [],
   "source": [
    "def getInversedConds(proj, conds, i):\n",
    "    state = proj.factory.blank_state()\n",
    "    new_conds = conds[:i]\n",
    "    new_conds.append(state.solver.Not(conds[i]))\n",
    "    return new_conds"
   ]
  },
  {
   "cell_type": "code",
   "execution_count": 10,
   "metadata": {},
   "outputs": [],
   "source": [
    "def solveForInput(proj, inxs, conds):\n",
    "    state = proj.factory.blank_state()\n",
    "    state.add_constraints(*conds)\n",
    "    return [ state.solver.eval(inx, cast_to=str) for inx in inxs ] if state.satisfiable() else None"
   ]
  },
  {
   "cell_type": "code",
   "execution_count": 11,
   "metadata": {},
   "outputs": [],
   "source": [
    "def fuzz(proj, inxs, ins0, max_branches):\n",
    "    all_ins = []\n",
    "    \n",
    "    queue = deque([])\n",
    "    queue.append( (ins0, -1) )\n",
    "\n",
    "    while queue:  # TODO: add time limit\n",
    "        ins, bound = queue.popleft()\n",
    "        # TODO: run actual program and check bugs\n",
    "        all_ins.append(ins)\n",
    "        \n",
    "        conds = executeSymbolic(proj, inxs, ins, max_branches)\n",
    "        for i in range(bound+1, len(conds)):\n",
    "            new_conds = getInversedConds(proj, conds, i)\n",
    "            new_ins = solveForInput(proj, inxs, new_conds)\n",
    "            if new_ins != None:\n",
    "                queue.append( (new_ins, i) )\n",
    "    \n",
    "    return all_ins"
   ]
  },
  {
   "cell_type": "code",
   "execution_count": 12,
   "metadata": {},
   "outputs": [],
   "source": [
    "max_branches = 10\n",
    "\n",
    "conds0 = executeSymbolic(proj, inxs, [], max_branches)\n",
    "ins0 = solveForInput(proj, inxs, conds0)\n",
    "all_ins = fuzz(proj, inxs, ins0, max_branches)"
   ]
  },
  {
   "cell_type": "code",
   "execution_count": 13,
   "metadata": {},
   "outputs": [
    {
     "data": {
      "text/plain": [
       "[['n\\x00', '\\x00\\x00', '\\x00\\x00'],\n",
       " ['`\\x00', '\\x00\\x00', '\\x00\\x00'],\n",
       " ['h\\x00', '\\x00\\x00', '\\x00\\x00'],\n",
       " ['e\\x00', '\\x00\\x00', '\\x00\\x00']]"
      ]
     },
     "execution_count": 13,
     "metadata": {},
     "output_type": "execute_result"
    }
   ],
   "source": [
    "all_ins"
   ]
  },
  {
   "cell_type": "code",
   "execution_count": 17,
   "metadata": {},
   "outputs": [
    {
     "name": "stdout",
     "output_type": "stream",
     "text": [
      "asdf\n"
     ]
    }
   ],
   "source": []
  },
  {
   "cell_type": "code",
   "execution_count": null,
   "metadata": {},
   "outputs": [],
   "source": []
  }
 ],
 "metadata": {
  "kernelspec": {
   "display_name": "Python 2",
   "language": "python",
   "name": "python2"
  },
  "language_info": {
   "codemirror_mode": {
    "name": "ipython",
    "version": 2
   },
   "file_extension": ".py",
   "mimetype": "text/x-python",
   "name": "python",
   "nbconvert_exporter": "python",
   "pygments_lexer": "ipython2",
   "version": "2.7.3"
  }
 },
 "nbformat": 4,
 "nbformat_minor": 2
}
