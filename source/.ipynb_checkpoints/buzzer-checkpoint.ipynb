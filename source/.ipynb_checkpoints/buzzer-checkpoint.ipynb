{
 "cells": [
  {
   "cell_type": "code",
   "execution_count": 1,
   "metadata": {},
   "outputs": [],
   "source": [
    "import angr, monkeyhex\n",
    "import random, time\n",
    "from collections import deque"
   ]
  },
  {
   "cell_type": "code",
   "execution_count": 2,
   "metadata": {},
   "outputs": [],
   "source": [
    "binary_name = 'if2'"
   ]
  },
  {
   "cell_type": "code",
   "execution_count": 3,
   "metadata": {},
   "outputs": [],
   "source": [
    "proj = angr.Project(binary_name, auto_load_libs=False)\n",
    "_state = proj.factory.entry_state()"
   ]
  },
  {
   "cell_type": "code",
   "execution_count": 4,
   "metadata": {},
   "outputs": [],
   "source": [
    "inx1 = _state.solver.BVS('inx1', 16)\n",
    "inxs = [inx1]"
   ]
  },
  {
   "cell_type": "code",
   "execution_count": 5,
   "metadata": {},
   "outputs": [],
   "source": [
    "ninputs = 3\n",
    "nlengths = [2, 2]"
   ]
  },
  {
   "cell_type": "code",
   "execution_count": 6,
   "metadata": {},
   "outputs": [],
   "source": [
    "def genSymbolicCommandLineArgs(_state, ninputs, nlengths):\n",
    "    if len(nlengths) < ninputs:\n",
    "        nlengths += [nlengths[-1]] * (ninputs - len(nlengths))\n",
    "    print(nlengths)\n",
    "    \n",
    "    return [ _state.solver.BVS('inx{0}'.format(i), leni * 8) for (i,leni) in enumerate(nlengths) ]"
   ]
  },
  {
   "cell_type": "code",
   "execution_count": 7,
   "metadata": {},
   "outputs": [],
   "source": [
    "def genInitState(proj, inxs, ins):\n",
    "    state = proj.factory.entry_state(args=inxs)\n",
    "    assert( len(inxs) >= len(ins) )\n",
    "    for i in range(len(ins)):\n",
    "        state.add_constraints(inxs[i] == ins[i])\n",
    "    return state"
   ]
  },
  {
   "cell_type": "code",
   "execution_count": 8,
   "metadata": {},
   "outputs": [],
   "source": [
    "def executeState(proj, state, max_branches):  # will only randomly pick one path if multiple paths possible\n",
    "    simgr = proj.factory.simulation_manager(state)\n",
    "    branches = 0\n",
    "    while simgr.active and branches < max_branches:\n",
    "        simgr.step(until=lambda s: not s.active or s.active[0].history.recent_constraints)\n",
    "        branches += 1\n",
    "        if (len(simgr.active) == 2):\n",
    "            r = random.randint(0,1)\n",
    "            simgr.active.pop(r)\n",
    "            \n",
    "    if simgr.active:\n",
    "        return simgr.active[0]\n",
    "    elif simgr.deadended:\n",
    "        return simgr.deadended[0]\n",
    "    elif simgr.errored:\n",
    "        return simgr.errored[0].state\n",
    "    else:\n",
    "        return None"
   ]
  },
  {
   "cell_type": "code",
   "execution_count": 9,
   "metadata": {},
   "outputs": [],
   "source": [
    "def getConstraints(proj, start, end):\n",
    "    ins = start.history.constraints_since(start)\n",
    "    constraints = end.history.constraints_since(start)\n",
    "    \n",
    "    for _ in range(len(ins)): # pop constraints for input\n",
    "        constraints.pop() \n",
    "    constraints.reverse() # adjust to correct order\n",
    "    \n",
    "    return [c.ast for c in constraints] # extract ast/condition from Simulation Action Object"
   ]
  },
  {
   "cell_type": "code",
   "execution_count": 10,
   "metadata": {},
   "outputs": [],
   "source": [
    "def executeSymbolic(proj, inx, ins, max_branches):\n",
    "    start = genInitState(proj, inxs, ins)\n",
    "    end = executeState(proj, start,  max_branches)\n",
    "    assert( end != None and \"unhandled case\")\n",
    "    \n",
    "    return getConstraints(proj, start, end)"
   ]
  },
  {
   "cell_type": "code",
   "execution_count": 11,
   "metadata": {},
   "outputs": [],
   "source": [
    "def getInversedConds(proj, conds, i):\n",
    "    state = proj.factory.blank_state()\n",
    "    new_conds = conds[:i]\n",
    "    new_conds.append(state.solver.Not(conds[i]))\n",
    "    return new_conds"
   ]
  },
  {
   "cell_type": "code",
   "execution_count": 12,
   "metadata": {},
   "outputs": [],
   "source": [
    "def solveForInput(proj, inxs, conds):\n",
    "    state = proj.factory.blank_state()\n",
    "    state.add_constraints(*conds)\n",
    "    return [ state.solver.eval(inx, cast_to=str) for inx in inxs ] if state.satisfiable() else None"
   ]
  },
  {
   "cell_type": "code",
   "execution_count": 21,
   "metadata": {},
   "outputs": [],
   "source": [
    "def fuzz(proj, cmdInxs, max_branches, time_limit):\n",
    "    start = time.time()\n",
    "    \n",
    "    # initial inputs\n",
    "    conds_ini = executeSymbolic(proj, cmdInxs, [], max_branches)\n",
    "    ins_ini = solveForInput(proj, cmdInxs, conds_ini)\n",
    "    \n",
    "    # Start trying all paths\n",
    "    cmd_ins = []\n",
    "    \n",
    "    queue = deque([])\n",
    "    queue.append( (ins_ini, -1) )\n",
    "\n",
    "    while queue:\n",
    "        if (time.time() - start) > time_limit:\n",
    "            print(\"reaches time limit, stopping...\")\n",
    "            break\n",
    "        \n",
    "        ins, bound = queue.popleft()\n",
    "        # TODO: run actual program and check bugs\n",
    "        cmd_ins.append(ins)\n",
    "        \n",
    "        _start = time.time()\n",
    "        conds = executeSymbolic(proj, cmdInxs, ins, max_branches)\n",
    "        print('executeSymbolic, time: {0}'.format(time.time() - _start))\n",
    "        \n",
    "        for i in range(bound+1, len(conds)):\n",
    "            _start = time.time()\n",
    "            new_conds = getInversedConds(proj, conds, i)\n",
    "            print('getInversedConds, time: {0}'.format(time.time() - _start))\n",
    "            \n",
    "            _start = time.time()\n",
    "            new_ins = solveForInput(proj, cmdInxs, new_conds)\n",
    "            print('solveForInput, time: {0}'.format(time.time() - _start))\n",
    "            \n",
    "            if new_ins != None:\n",
    "                queue.append( (new_ins, i) )\n",
    "    \n",
    "    return cmd_ins, time.time() - start"
   ]
  },
  {
   "cell_type": "code",
   "execution_count": 22,
   "metadata": {},
   "outputs": [
    {
     "name": "stdout",
     "output_type": "stream",
     "text": [
      "[2, 2, 2]\n",
      "executeSymbolic, time: 0.424659013748\n",
      "getInversedConds, time: 0.00187397003174\n",
      "solveForInput, time: 0.0423710346222\n",
      "getInversedConds, time: 0.00247406959534\n",
      "solveForInput, time: 0.0399069786072\n",
      "getInversedConds, time: 0.00272798538208\n",
      "solveForInput, time: 0.0393779277802\n",
      "executeSymbolic, time: 0.413058996201\n",
      "getInversedConds, time: 0.00195908546448\n",
      "solveForInput, time: 0.0428788661957\n",
      "getInversedConds, time: 0.00242209434509\n",
      "solveForInput, time: 0.0351991653442\n",
      "executeSymbolic, time: 0.505300045013\n",
      "getInversedConds, time: 0.00263118743896\n",
      "solveForInput, time: 0.0401690006256\n",
      "executeSymbolic, time: 0.442910909653\n",
      "executeSymbolic, time: 0.42191195488\n",
      "getInversedConds, time: 0.00244998931885\n",
      "solveForInput, time: 0.038458108902\n",
      "executeSymbolic, time: 0.435720205307\n",
      "executeSymbolic, time: 0.42724108696\n",
      "executeSymbolic, time: 0.463316917419\n"
     ]
    }
   ],
   "source": [
    "max_branches = 10\n",
    "time_limit = 10\n",
    "\n",
    "inxs = genSymbolicCommandLineArgs(_state, ninputs, nlengths)\n",
    "cmd_ins, time_collapsed = fuzz(proj, inxs, max_branches, time_limit)"
   ]
  },
  {
   "cell_type": "code",
   "execution_count": 23,
   "metadata": {},
   "outputs": [
    {
     "data": {
      "text/plain": [
       "([['8\\x00', '0\\x00', '0\\x00'],\n",
       "  ['0\\x00', '\\x00\\x00', '\\x00\\x00'],\n",
       "  ['8\\x00', '8\\x00', '\\x00\\x00'],\n",
       "  ['8\\x00', '0\\x00', '8\\x00'],\n",
       "  ['0\\x00', '8\\x00', '\\x00\\x00'],\n",
       "  ['0\\x00', '0\\x00', '8\\x00'],\n",
       "  ['8\\x00', '8\\x00', '8\\x00'],\n",
       "  ['0\\x00', '8\\x00', '8\\x00']],\n",
       " 4.311079025268555)"
      ]
     },
     "execution_count": 23,
     "metadata": {},
     "output_type": "execute_result"
    }
   ],
   "source": [
    "cmd_ins, time_collapsed"
   ]
  },
  {
   "cell_type": "code",
   "execution_count": null,
   "metadata": {},
   "outputs": [],
   "source": []
  },
  {
   "cell_type": "code",
   "execution_count": null,
   "metadata": {},
   "outputs": [],
   "source": []
  }
 ],
 "metadata": {
  "kernelspec": {
   "display_name": "Python 2",
   "language": "python",
   "name": "python2"
  },
  "language_info": {
   "codemirror_mode": {
    "name": "ipython",
    "version": 2
   },
   "file_extension": ".py",
   "mimetype": "text/x-python",
   "name": "python",
   "nbconvert_exporter": "python",
   "pygments_lexer": "ipython2",
   "version": "2.7.3"
  }
 },
 "nbformat": 4,
 "nbformat_minor": 2
}
